{
 "cells": [
  {
   "cell_type": "markdown",
   "metadata": {
    "id": "cOSJyABoshOK"
   },
   "source": [
    "# Introduction"
   ]
  },
  {
   "cell_type": "markdown",
   "metadata": {
    "id": "26hIPGtBsi7g"
   },
   "source": [
    "Provide a brief introduction to the purpose of this notebook."
   ]
  },
  {
   "cell_type": "markdown",
   "metadata": {},
   "source": [
    "# Data Preparation"
   ]
  },
  {
   "cell_type": "markdown",
   "metadata": {
    "id": "dwvtDMCYlPus"
   },
   "source": [
    "## Import libraries"
   ]
  },
  {
   "cell_type": "code",
   "execution_count": 7,
   "metadata": {
    "id": "DQZAzYri_ru5"
   },
   "outputs": [],
   "source": [
    "# Data manipulation libraries\n",
    "import pandas as pd\n",
    "import numpy as np\n",
    "\n",
    "# Visualization libraries\n",
    "import matplotlib.pyplot as plt\n",
    "import seaborn as sns\n",
    "\n",
    "# Set seaborn theme for consistent visualization style\n",
    "sns.set_theme(style='whitegrid')\n",
    "\n",
    "# Library for visualizing missing data\n",
    "import missingno as msno"
   ]
  },
  {
   "cell_type": "markdown",
   "metadata": {
    "id": "5qccuG8vy7Ja"
   },
   "source": [
    "## Load the data"
   ]
  },
  {
   "cell_type": "markdown",
   "metadata": {
    "id": "fDJ80Omny91y"
   },
   "source": [
    "The NOAA National Centers for Environmental Information provides access to many types of environmental data, including records of daily precipitation.\n",
    "\n",
    "We can use their [website](https://www.ncei.noaa.gov/cdo-web/search?datasetid=GHCND) to request records of daily precipitation from Seattle and St. Louis (or other locations of interest) for 5 years (2018 - 2022).\n",
    "\n",
    "I have already obtained the data. The data are available at this [github repository](https://github.com/brian-fischer/DATA-5100/tree/main/weather) and are called `seattle_rain.csv` and `stl_rain.csv`."
   ]
  },
  {
   "cell_type": "markdown",
   "metadata": {
    "id": "7eodKzMZl5h9"
   },
   "source": [
    "Load the Seattle data set"
   ]
  },
  {
   "cell_type": "code",
   "execution_count": 5,
   "metadata": {
    "id": "TpRcvNoalbnG"
   },
   "outputs": [],
   "source": [
    "df_seattle = pd.read_csv('https://raw.githubusercontent.com/brian-fischer/DATA-5100/refs/heads/main/weather/seattle_rain.csv')"
   ]
  },
  {
   "cell_type": "markdown",
   "metadata": {
    "id": "_Tv9XW6rxTCz"
   },
   "source": [
    "Load the St. Louis data set"
   ]
  },
  {
   "cell_type": "code",
   "execution_count": null,
   "metadata": {
    "id": "eaK927g8xTCz"
   },
   "outputs": [],
   "source": [
    "df_stlouis ="
   ]
  },
  {
   "cell_type": "markdown",
   "metadata": {
    "id": "OHVSgzXFd4nf"
   },
   "source": [
    "## Explore the contents of the data sets"
   ]
  },
  {
   "cell_type": "markdown",
   "metadata": {
    "id": "kTG4W94-irIA"
   },
   "source": [
    "## Convert data types, if necessary"
   ]
  },
  {
   "cell_type": "markdown",
   "metadata": {
    "id": "35pKxSfb2zIs"
   },
   "source": [
    "## Are the data suitable for answering the question?"
   ]
  },
  {
   "cell_type": "markdown",
   "metadata": {
    "id": "kywuWQaG22rv"
   },
   "source": [
    "We want to perform quick exploratory data analysis to determine whether the data are sufficient to answer our question. If the data are not sufficient, we do not want to waste time doing anything that will not be productive."
   ]
  },
  {
   "cell_type": "markdown",
   "metadata": {
    "id": "HbsdH56_ijIS"
   },
   "source": [
    "## Select relevant subsets of the data"
   ]
  },
  {
   "cell_type": "markdown",
   "metadata": {
    "id": "aAaUY6N1rtoa"
   },
   "source": [
    "## Identify and deal with missing values"
   ]
  },
  {
   "cell_type": "markdown",
   "metadata": {
    "id": "BkCnFJdVryvv"
   },
   "source": [
    "## Join data frames keeping `DATE` and `PRCP` columns"
   ]
  },
  {
   "cell_type": "markdown",
   "metadata": {
    "id": "TklEWrlhsEiQ"
   },
   "source": [
    "## Create a tidy data frame with columns for city and precipitation"
   ]
  },
  {
   "cell_type": "markdown",
   "metadata": {
    "id": "ePmgfgrosQWN"
   },
   "source": [
    "### Rename columns or values to follow best practices"
   ]
  },
  {
   "cell_type": "markdown",
   "metadata": {
    "id": "2IZlt3PksMUK"
   },
   "source": [
    "## Create relevant derived variables as new columns"
   ]
  },
  {
   "cell_type": "markdown",
   "metadata": {
    "id": "hxBtraVUkDxr"
   },
   "source": [
    "We may already know that we want to process the data to create new variables from the existing variables. However, we often start analyzing the data and realize that it is useful to create new variables derived from the existing variables. It is fine to return to modify this step after exploring the data further."
   ]
  },
  {
   "cell_type": "markdown",
   "metadata": {
    "id": "oKGHtonZsZCM"
   },
   "source": [
    "## Export the clean .csv file"
   ]
  },
  {
   "cell_type": "code",
   "execution_count": null,
   "metadata": {
    "id": "lp0iLYOqKtbQ"
   },
   "outputs": [],
   "source": []
  },
  {
   "cell_type": "markdown",
   "metadata": {},
   "source": [
    "# Data Analysis"
   ]
  },
  {
   "cell_type": "code",
   "execution_count": null,
   "metadata": {},
   "outputs": [],
   "source": []
  }
 ],
 "metadata": {
  "colab": {
   "provenance": []
  },
  "kernelspec": {
   "display_name": "Python 3 (ipykernel)",
   "language": "python",
   "name": "python3"
  },
  "language_info": {
   "codemirror_mode": {
    "name": "ipython",
    "version": 3
   },
   "file_extension": ".py",
   "mimetype": "text/x-python",
   "name": "python",
   "nbconvert_exporter": "python",
   "pygments_lexer": "ipython3",
   "version": "3.11.7"
  }
 },
 "nbformat": 4,
 "nbformat_minor": 4
}
